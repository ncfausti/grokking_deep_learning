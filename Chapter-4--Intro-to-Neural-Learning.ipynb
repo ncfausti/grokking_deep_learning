{
 "cells": [
  {
   "cell_type": "markdown",
   "metadata": {},
   "source": [
    "# Chapter 4: Introduction to Neural Learning\n",
    "### Includes:\n",
    "\n",
    "Do neural networks make accurate predictions?  \n",
    "\n",
    "Why measure error?  \n",
    "\n",
    "Hot and cold learning  \n",
    "\n",
    "Calculating both direction and amount from error  \n",
    "\n",
    "Gradient descent  \n",
    "\n",
    "Learning is just reducing error  \n",
    "\n",
    "Derivatives and how to use them to learn  \n",
    "\n",
    "Divergence and alpha"
   ]
  },
  {
   "cell_type": "markdown",
   "metadata": {},
   "source": [
    "#### Predict, **COMPARE**, **LEARN**  \n",
    "In this chapter we focus on what to do after  \n",
    "we've made a prediction, and how to make better  \n",
    "predictions in the future."
   ]
  },
  {
   "cell_type": "code",
   "execution_count": null,
   "metadata": {},
   "outputs": [],
   "source": []
  }
 ],
 "metadata": {
  "kernelspec": {
   "display_name": "Python 3",
   "language": "python",
   "name": "python3"
  },
  "language_info": {
   "codemirror_mode": {
    "name": "ipython",
    "version": 3
   },
   "file_extension": ".py",
   "mimetype": "text/x-python",
   "name": "python",
   "nbconvert_exporter": "python",
   "pygments_lexer": "ipython3",
   "version": "3.7.3"
  }
 },
 "nbformat": 4,
 "nbformat_minor": 2
}
